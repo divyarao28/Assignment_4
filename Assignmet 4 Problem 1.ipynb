{
 "cells": [
  {
   "cell_type": "markdown",
   "id": "6c628ae6",
   "metadata": {},
   "source": [
    "# Write a Python program to create a lambda function that adds 25 to a given number passed in as an argument.\n",
    "\n"
   ]
  },
  {
   "cell_type": "code",
   "execution_count": 1,
   "id": "2bab9a4b",
   "metadata": {},
   "outputs": [],
   "source": [
    "sample_l = 10"
   ]
  },
  {
   "cell_type": "code",
   "execution_count": 2,
   "id": "c07c5b8d",
   "metadata": {},
   "outputs": [
    {
     "data": {
      "text/plain": [
       "<function __main__.<lambda>(x)>"
      ]
     },
     "execution_count": 2,
     "metadata": {},
     "output_type": "execute_result"
    }
   ],
   "source": [
    "lambda x:x+25"
   ]
  },
  {
   "cell_type": "code",
   "execution_count": 6,
   "id": "ce9be666",
   "metadata": {},
   "outputs": [],
   "source": [
    "def num(x):\n",
    "    return x+25"
   ]
  },
  {
   "cell_type": "code",
   "execution_count": 7,
   "id": "6a2fd35d",
   "metadata": {},
   "outputs": [
    {
     "name": "stdout",
     "output_type": "stream",
     "text": [
      "35\n"
     ]
    }
   ],
   "source": [
    "print(num(sample_l))"
   ]
  },
  {
   "cell_type": "code",
   "execution_count": null,
   "id": "a7dde8cf",
   "metadata": {},
   "outputs": [],
   "source": []
  }
 ],
 "metadata": {
  "kernelspec": {
   "display_name": "Python 3 (ipykernel)",
   "language": "python",
   "name": "python3"
  },
  "language_info": {
   "codemirror_mode": {
    "name": "ipython",
    "version": 3
   },
   "file_extension": ".py",
   "mimetype": "text/x-python",
   "name": "python",
   "nbconvert_exporter": "python",
   "pygments_lexer": "ipython3",
   "version": "3.9.6"
  }
 },
 "nbformat": 4,
 "nbformat_minor": 5
}

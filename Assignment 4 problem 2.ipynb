{
 "cells": [
  {
   "cell_type": "markdown",
   "id": "f3907b0d",
   "metadata": {},
   "source": [
    "# Write a Python program to triple all numbers of a given list of integers. Use Python map."
   ]
  },
  {
   "cell_type": "code",
   "execution_count": 1,
   "id": "150e266d",
   "metadata": {},
   "outputs": [],
   "source": [
    "def triple (num):\n",
    "    return num*3"
   ]
  },
  {
   "cell_type": "code",
   "execution_count": 2,
   "id": "3c39c402",
   "metadata": {},
   "outputs": [],
   "source": [
    "sample_list =  [1, 2, 3, 4, 5, 6, 7]"
   ]
  },
  {
   "cell_type": "code",
   "execution_count": 3,
   "id": "b2982230",
   "metadata": {},
   "outputs": [],
   "source": [
    "value = list(map(triple,sample_list))"
   ]
  },
  {
   "cell_type": "code",
   "execution_count": 4,
   "id": "88bfc491",
   "metadata": {},
   "outputs": [
    {
     "name": "stdout",
     "output_type": "stream",
     "text": [
      "[3, 6, 9, 12, 15, 18, 21]\n"
     ]
    }
   ],
   "source": [
    "print(value)"
   ]
  },
  {
   "cell_type": "code",
   "execution_count": null,
   "id": "a00b82ca",
   "metadata": {},
   "outputs": [],
   "source": []
  }
 ],
 "metadata": {
  "kernelspec": {
   "display_name": "Python 3 (ipykernel)",
   "language": "python",
   "name": "python3"
  },
  "language_info": {
   "codemirror_mode": {
    "name": "ipython",
    "version": 3
   },
   "file_extension": ".py",
   "mimetype": "text/x-python",
   "name": "python",
   "nbconvert_exporter": "python",
   "pygments_lexer": "ipython3",
   "version": "3.9.6"
  }
 },
 "nbformat": 4,
 "nbformat_minor": 5
}
